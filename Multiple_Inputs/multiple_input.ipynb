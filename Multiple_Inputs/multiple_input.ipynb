{
 "cells": [
  {
   "cell_type": "code",
   "execution_count": null,
   "id": "590de200-6826-4ba8-a479-5223e1b857d6",
   "metadata": {},
   "outputs": [],
   "source": [
    "while True:\n",
    "    reply = input(\"Enter Text: \")\n",
    "    if reply == 'stop': break\n",
    "    print(reply)"
   ]
  },
  {
   "cell_type": "code",
   "execution_count": 2,
   "id": "db43b301-d611-4211-82ac-11cc4f85d6d8",
   "metadata": {},
   "outputs": [],
   "source": [
    "import tkinter as tk\n",
    "\n",
    "def on_submit():\n",
    "    text = entry.get()\n",
    "    if text.lower() == 'stop':\n",
    "        root.destroy()\n",
    "    else:\n",
    "        text_display.insert(tk.END, text + '\\n')\n",
    "        entry.delete(0, tk.END)\n",
    "        entry.insert(0, placeholder)\n",
    "        entry.config(fg='grey')\n",
    "\n",
    "def clear_placeholder(event):\n",
    "    if entry.get() == placeholder:\n",
    "        entry.delete(0, tk.END)\n",
    "        entry.config(fg='black')\n",
    "\n",
    "def add_placeholder(event):\n",
    "    if not entry.get():\n",
    "        entry.insert(0, placeholder)\n",
    "        entry.config(fg='grey')\n",
    "\n",
    "# Set up the main application window\n",
    "root = tk.Tk()\n",
    "root.title(\"Simple Text Input UI\")\n",
    "\n",
    "# Placeholder text\n",
    "placeholder = \"Enter Text:\"\n",
    "\n",
    "# Create an Entry widget for text input\n",
    "entry = tk.Entry(root, width=50, fg='grey')\n",
    "entry.insert(0, placeholder)\n",
    "entry.pack(pady=10)\n",
    "entry.bind(\"<FocusIn>\", clear_placeholder)\n",
    "entry.bind(\"<FocusOut>\", add_placeholder)\n",
    "\n",
    "# Create a Text widget to display the entered text\n",
    "text_display = tk.Text(root, height=10, width=50)\n",
    "text_display.pack(pady=10)\n",
    "\n",
    "# Create a Button widget to submit the text\n",
    "submit_button = tk.Button(root, text=\"Submit\", command=on_submit)\n",
    "submit_button.pack(pady=10)\n",
    "\n",
    "# run main event loop\n",
    "root.mainloop()\n"
   ]
  },
  {
   "cell_type": "code",
   "execution_count": null,
   "id": "4903352b-e4fb-41a2-8052-2d67355048fa",
   "metadata": {},
   "outputs": [],
   "source": []
  }
 ],
 "metadata": {
  "kernelspec": {
   "display_name": "Python 3 (ipykernel)",
   "language": "python",
   "name": "python3"
  },
  "language_info": {
   "codemirror_mode": {
    "name": "ipython",
    "version": 3
   },
   "file_extension": ".py",
   "mimetype": "text/x-python",
   "name": "python",
   "nbconvert_exporter": "python",
   "pygments_lexer": "ipython3",
   "version": "3.11.5"
  }
 },
 "nbformat": 4,
 "nbformat_minor": 5
}
