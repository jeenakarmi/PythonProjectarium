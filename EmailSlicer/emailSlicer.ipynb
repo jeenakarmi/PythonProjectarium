{
 "cells": [
  {
   "cell_type": "code",
   "execution_count": 2,
   "id": "c433c84b",
   "metadata": {},
   "outputs": [
    {
     "name": "stdout",
     "output_type": "stream",
     "text": [
      "Your user name is 'someone' and your domain is 'gmail.com'\n"
     ]
    }
   ],
   "source": [
    "email = input(\"Enter Your Email: \").strip()\n",
    "username = email[:email.index(\"@\")]\n",
    "domain_name = email[email.index(\"@\")+1:]\n",
    "format_ = (f\"Your user name is '{username}' and your domain is '{domain_name}'\")\n",
    "print(format_)"
   ]
  },
  {
   "cell_type": "code",
   "execution_count": null,
   "id": "2243496c",
   "metadata": {},
   "outputs": [],
   "source": [
    "import tkinter as tk\n",
    "from tkinter import messagebox\n",
    "\n",
    "def extract_email_info():\n",
    "    email = email_entry.get().strip()\n",
    "    if \"@\" not in email or email.count(\"@\") != 1:\n",
    "        messagebox.showerror(\"Invalid Email\", \"Please enter a valid email address.\")\n",
    "        return\n",
    "    try:\n",
    "        username = email[:email.index(\"@\")]\n",
    "        domain_name = email[email.index(\"@\")+1:]\n",
    "        result = f\"Your user name is '{username}' and your domain is '{domain_name}'\"\n",
    "        result_label.config(text=result)\n",
    "    except Exception as e:\n",
    "        messagebox.showerror(\"Error\", f\"Something went wrong: {e}\")\n",
    "\n",
    "# GUI setup\n",
    "root = tk.Tk()\n",
    "root.title(\"Email Parser\")\n",
    "\n",
    "tk.Label(root, text=\"Enter Your Email:\").pack(pady=5)\n",
    "email_entry = tk.Entry(root, width=40)\n",
    "email_entry.pack(pady=5)\n",
    "\n",
    "tk.Button(root, text=\"Parse Email\", command=extract_email_info).pack(pady=10)\n",
    "\n",
    "result_label = tk.Label(root, text=\"\", fg=\"blue\")\n",
    "result_label.pack(pady=5)\n",
    "\n",
    "root.mainloop()\n"
   ]
  }
 ],
 "metadata": {
  "kernelspec": {
   "display_name": "Python 3",
   "language": "python",
   "name": "python3"
  },
  "language_info": {
   "codemirror_mode": {
    "name": "ipython",
    "version": 3
   },
   "file_extension": ".py",
   "mimetype": "text/x-python",
   "name": "python",
   "nbconvert_exporter": "python",
   "pygments_lexer": "ipython3",
   "version": "3.11.5"
  }
 },
 "nbformat": 4,
 "nbformat_minor": 5
}
