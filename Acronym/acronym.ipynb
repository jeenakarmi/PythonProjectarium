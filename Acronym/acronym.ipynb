{
 "cells": [
  {
   "cell_type": "code",
   "execution_count": 1,
   "id": "2614aed8-6936-4407-9554-3bfa08729ed5",
   "metadata": {},
   "outputs": [
    {
     "name": "stdin",
     "output_type": "stream",
     "text": [
      "Enter the phrase:  Create an acronym for this\n"
     ]
    },
    {
     "name": "stdout",
     "output_type": "stream",
     "text": [
      " CAAFT\n"
     ]
    }
   ],
   "source": [
    "# Creating Acronyms\n",
    "user_input = str(input(\"Enter the phrase: \")) \n",
    "words = user_input.split()   # Splits the input string into a list of words\n",
    "acronym = \" \"   # Initializes an empty string to hold the acronym\n",
    "\n",
    "for word in words: # Iterates through each word in the list\n",
    "    acronym =  acronym + str(word[0].upper())   # Appends the uppercase first character of each word to 'acronym'\n",
    "print(acronym)"
   ]
  },
  {
   "cell_type": "code",
   "execution_count": null,
   "id": "b3aa18ad-a5c4-4575-b774-b01c0ce07ff1",
   "metadata": {},
   "outputs": [],
   "source": []
  }
 ],
 "metadata": {
  "kernelspec": {
   "display_name": "Python 3 (ipykernel)",
   "language": "python",
   "name": "python3"
  },
  "language_info": {
   "codemirror_mode": {
    "name": "ipython",
    "version": 3
   },
   "file_extension": ".py",
   "mimetype": "text/x-python",
   "name": "python",
   "nbconvert_exporter": "python",
   "pygments_lexer": "ipython3",
   "version": "3.11.5"
  }
 },
 "nbformat": 4,
 "nbformat_minor": 5
}
