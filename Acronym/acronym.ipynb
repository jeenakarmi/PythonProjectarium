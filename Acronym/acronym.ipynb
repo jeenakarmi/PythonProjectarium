{
 "cells": [
  {
   "cell_type": "code",
   "execution_count": 1,
   "id": "2614aed8-6936-4407-9554-3bfa08729ed5",
   "metadata": {},
   "outputs": [
    {
     "name": "stdin",
     "output_type": "stream",
     "text": [
      "Enter the phrase:  Create an acronym for this\n"
     ]
    },
    {
     "name": "stdout",
     "output_type": "stream",
     "text": [
      " CAAFT\n"
     ]
    }
   ],
   "source": [
    "# Creating Acronyms without GUI\n",
    "user_input = str(input(\"Enter the phrase: \")) \n",
    "words = user_input.split()   # Splits the input string into a list of words\n",
    "acronym = \" \"   # Initializes an empty string to hold the acronym\n",
    "\n",
    "for word in words: # Iterates through each word in the list\n",
    "    acronym =  acronym + str(word[0].upper())   # Appends the uppercase first character of each word to 'acronym'\n",
    "print(acronym)"
   ]
  },
  {
   "cell_type": "code",
   "execution_count": 28,
   "id": "b3aa18ad-a5c4-4575-b774-b01c0ce07ff1",
   "metadata": {},
   "outputs": [],
   "source": [
    "# Creating Acronyms with GUI\n",
    "import tkinter as tk\n",
    "from tkinter import ttk\n",
    "\n",
    "# Function to create an acronym from the input phrase\n",
    "def create_acronym():\n",
    "    user_input = entry.get()\n",
    "    words = user_input.split()\n",
    "    acronym = \"\".join(word[0].upper() for word in words)\n",
    "    result_label.config(text=f\"Acronym: {acronym}\")\n",
    "\n",
    "# Create the main window\n",
    "root = tk.Tk()\n",
    "root.title(\"Acronym Generator\")\n",
    "root.geometry(\"400x200\")\n",
    "root.resizable(False, False)\n",
    "\n",
    "# Centering the frame within the window\n",
    "root.columnconfigure(0, weight=1)  # Column 0 expands horizontally\n",
    "root.rowconfigure(0, weight=1)     # Row 0 expands vertically\n",
    "\n",
    "# Create and place widgets\n",
    "frame = ttk.Frame(root, padding=\"10\")\n",
    "frame.grid(row=0, column=0, sticky=(tk.W, tk.E, tk.N, tk.S))\n",
    "\n",
    "# Centering the frame within itself\n",
    "frame.columnconfigure(0, weight=1)  # Column 0 of frame expands horizontally\n",
    "\n",
    "instruction_label = ttk.Label(frame, text=\"Enter the phrase:\")\n",
    "instruction_label.grid(row=0, column=0, padx=5, pady=5, sticky=tk.W)\n",
    "\n",
    "entry = ttk.Entry(frame, width=50)\n",
    "entry.grid(row=1, column=0, padx=5, pady=5, sticky=tk.W + tk.E)\n",
    "entry.config(font=('Arial', 15)) \n",
    "\n",
    "generate_button = ttk.Button(frame, text=\"Generate Acronym\", command=create_acronym)\n",
    "generate_button.grid(row=2, column=0, padx=5, pady=10)\n",
    "\n",
    "result_label = ttk.Label(frame, text=\"Acronym: \", font=(\"Arial\", 12))\n",
    "result_label.grid(row=3, column=0, padx=5, pady=5)\n",
    "\n",
    "# Start the GUI event loop\n",
    "root.mainloop()\n"
   ]
  },
  {
   "cell_type": "code",
   "execution_count": null,
   "id": "68766c30-17b9-44e9-81cc-0f478013d0c8",
   "metadata": {},
   "outputs": [],
   "source": []
  }
 ],
 "metadata": {
  "kernelspec": {
   "display_name": "Python 3 (ipykernel)",
   "language": "python",
   "name": "python3"
  },
  "language_info": {
   "codemirror_mode": {
    "name": "ipython",
    "version": 3
   },
   "file_extension": ".py",
   "mimetype": "text/x-python",
   "name": "python",
   "nbconvert_exporter": "python",
   "pygments_lexer": "ipython3",
   "version": "3.11.5"
  }
 },
 "nbformat": 4,
 "nbformat_minor": 5
}
