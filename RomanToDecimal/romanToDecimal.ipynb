{
 "cells": [
  {
   "cell_type": "code",
   "execution_count": null,
   "id": "b5611a9a",
   "metadata": {},
   "outputs": [
    {
     "name": "stdout",
     "output_type": "stream",
     "text": [
      "The decimal value of X is 10\n"
     ]
    }
   ],
   "source": [
    "tallies = {\n",
    "    'I': 1,\n",
    "    'V': 5,\n",
    "    'X': 10,\n",
    "    'L': 50,\n",
    "    'C': 100,\n",
    "    'D': 500,\n",
    "    'M': 1000,\n",
    "}\n",
    "\n",
    "def RomanNumeralToDecimal(romanNumeral):\n",
    "    sum = 0\n",
    "    for i in range(len(romanNumeral) - 1):\n",
    "        left = romanNumeral[i]\n",
    "        right = romanNumeral[i + 1]\n",
    "        if tallies[left] < tallies[right]:\n",
    "            sum -= tallies[left]\n",
    "        else:\n",
    "            sum += tallies[left]\n",
    "    sum += tallies[romanNumeral[-1]]\n",
    "    return sum\n",
    "\n",
    "user_input = input(\"Enter a Roman numeral: \").upper().strip()\n",
    "\n",
    "result = RomanNumeralToDecimal(user_input)\n",
    "\n",
    "if result == -1:\n",
    "    print(\"Invalid Roman numeral. Please use valid characters: I, V, X, L, C, D, M.\")\n",
    "else:\n",
    "    print(f\"The decimal value of {user_input} is {result}\")\n"
   ]
  }
 ],
 "metadata": {
  "kernelspec": {
   "display_name": "Python 3",
   "language": "python",
   "name": "python3"
  },
  "language_info": {
   "codemirror_mode": {
    "name": "ipython",
    "version": 3
   },
   "file_extension": ".py",
   "mimetype": "text/x-python",
   "name": "python",
   "nbconvert_exporter": "python",
   "pygments_lexer": "ipython3",
   "version": "3.11.5"
  }
 },
 "nbformat": 4,
 "nbformat_minor": 5
}
