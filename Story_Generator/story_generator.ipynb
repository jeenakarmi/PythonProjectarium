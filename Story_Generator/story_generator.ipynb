{
 "cells": [
  {
   "cell_type": "code",
   "execution_count": 6,
   "id": "6507c92b-d9b2-4bcd-be6b-116aa76c25ff",
   "metadata": {},
   "outputs": [
    {
     "name": "stdout",
     "output_type": "stream",
     "text": [
      "A month ago, an owl named Jimmy that lived in a circus, went to the the date and sang karaoke.\n"
     ]
    }
   ],
   "source": [
    "import random\n",
    "\n",
    "# Lists for the story\n",
    "when = ['A few days ago', 'Last week', 'This morning', 'Last night', 'A month ago']\n",
    "who = ['a tiger', 'an owl', 'an elephant', 'a parrot', 'a dog']\n",
    "name = ['Cupie', 'Jimmy', 'Kanxu', 'Jimu', 'Sanu']\n",
    "residence = ['a zoo', 'a circus', 'the jungle', 'a pet store', 'a home']\n",
    "went = ['a birthday party', 'a grocery store', 'the date', 'a concert', 'a coffee shop']\n",
    "happened = ['danced on a table', 'ate too many donuts', 'befriended a robot', 'sang karaoke', 'spilled coffee on themselves']\n",
    "\n",
    "# Generate and print the story\n",
    "print(\n",
    "    random.choice(when) + ', ' +\n",
    "    random.choice(who) + ' named ' + random.choice(name) + \n",
    "    ' that lived in ' + random.choice(residence) + ', went to the ' +\n",
    "    random.choice(went) + ' and ' + random.choice(happened) + '.'\n",
    ")\n"
   ]
  },
  {
   "cell_type": "code",
   "execution_count": 1,
   "id": "84b4b55c-3845-418b-ac28-2a24e8e6a9cb",
   "metadata": {},
   "outputs": [],
   "source": [
    "import tkinter as tk\n",
    "from tkinter import font\n",
    "import random\n",
    "\n",
    "# Lists for the story\n",
    "when = ['A few days ago', 'Last week', 'This morning', 'Last night', 'A month ago']\n",
    "who = ['a tiger', 'an owl', 'an elephant', 'a parrot', 'a dog']\n",
    "name = ['Cupie', 'Jimmy', 'Kanxu', 'Jimu', 'Sanu']\n",
    "residence = ['a zoo', 'a circus', 'the jungle', 'a pet store', 'a home']\n",
    "went = ['a birthday party', 'a grocery store', 'the date', 'a concert', 'a coffee shop']\n",
    "happened = ['danced on a table', 'ate too many donuts', 'befriended a robot', 'sang karaoke', 'spilled coffee on themselves']\n",
    "\n",
    "def generate_story():\n",
    "    story = (\n",
    "        random.choice(when) + ', ' +\n",
    "        random.choice(who) + ' named ' + random.choice(name) + \n",
    "        ' that lived in ' + random.choice(residence) + ', went to the ' +\n",
    "        random.choice(went) + ' and ' + random.choice(happened) + '.'\n",
    "    )\n",
    "    story_label.config(text=story)\n",
    "\n",
    "# Create the main window\n",
    "root = tk.Tk()\n",
    "root.title(\"Random Story Generator\")\n",
    "root.geometry(\"600x400\")\n",
    "root.configure(bg=\"#f0f0f0\")\n",
    "\n",
    "# Define custom fonts\n",
    "title_font = font.Font(family=\"Helvetica\", size=24, weight=\"bold\")\n",
    "button_font = font.Font(family=\"Helvetica\", size=14)\n",
    "story_font = font.Font(family=\"Helvetica\", size=16)\n",
    "\n",
    "# Create and place a title label\n",
    "title_label = tk.Label(root, text=\"Random Story Generator\", font=title_font, bg=\"#f0f0f0\", fg=\"#333\")\n",
    "title_label.pack(pady=20)\n",
    "\n",
    "# Create and place a label to display the story\n",
    "story_label = tk.Label(root, text=\"\", wraplength=500, justify=\"left\", font=story_font, bg=\"#fff\", fg=\"#333\", padx=10, pady=10, borderwidth=2, relief=\"groove\")\n",
    "story_label.pack(pady=20, padx=20, fill=\"both\")\n",
    "\n",
    "# Create and place a button to generate the story\n",
    "generate_button = tk.Button(root, text=\"Generate Story\", font=button_font, command=generate_story, bg=\"#4CAF50\", fg=\"#fff\", activebackground=\"#45a049\", padx=10, pady=10)\n",
    "generate_button.pack(pady=20)\n",
    "\n",
    "# Run the application\n",
    "root.mainloop()\n"
   ]
  }
 ],
 "metadata": {
  "kernelspec": {
   "display_name": "Python (pyvenv)",
   "language": "python",
   "name": "pyvenv"
  },
  "language_info": {
   "codemirror_mode": {
    "name": "ipython",
    "version": 3
   },
   "file_extension": ".py",
   "mimetype": "text/x-python",
   "name": "python",
   "nbconvert_exporter": "python",
   "pygments_lexer": "ipython3",
   "version": "3.11.5"
  }
 },
 "nbformat": 4,
 "nbformat_minor": 5
}
