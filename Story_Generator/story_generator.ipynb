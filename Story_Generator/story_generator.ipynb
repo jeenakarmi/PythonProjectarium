{
 "cells": [
  {
   "cell_type": "code",
   "execution_count": 6,
   "id": "6507c92b-d9b2-4bcd-be6b-116aa76c25ff",
   "metadata": {},
   "outputs": [
    {
     "name": "stdout",
     "output_type": "stream",
     "text": [
      "A month ago, an owl named Jimmy that lived in a circus, went to the the date and sang karaoke.\n"
     ]
    }
   ],
   "source": [
    "import random\n",
    "\n",
    "# Lists for the story\n",
    "when = ['A few days ago', 'Last week', 'This morning', 'Last night', 'A month ago']\n",
    "who = ['a tiger', 'an owl', 'an elephant', 'a parrot', 'a dog']\n",
    "name = ['Cupie', 'Jimmy', 'Kanxu', 'Jimu', 'Sanu']\n",
    "residence = ['a zoo', 'a circus', 'the jungle', 'a pet store', 'a home']\n",
    "went = ['a birthday party', 'a grocery store', 'the date', 'a concert', 'a coffee shop']\n",
    "happened = ['danced on a table', 'ate too many donuts', 'befriended a robot', 'sang karaoke', 'spilled coffee on themselves']\n",
    "\n",
    "# Generate and print the story\n",
    "print(\n",
    "    random.choice(when) + ', ' +\n",
    "    random.choice(who) + ' named ' + random.choice(name) + \n",
    "    ' that lived in ' + random.choice(residence) + ', went to the ' +\n",
    "    random.choice(went) + ' and ' + random.choice(happened) + '.'\n",
    ")\n"
   ]
  },
  {
   "cell_type": "code",
   "execution_count": null,
   "id": "84b4b55c-3845-418b-ac28-2a24e8e6a9cb",
   "metadata": {},
   "outputs": [],
   "source": []
  }
 ],
 "metadata": {
  "kernelspec": {
   "display_name": "Python 3 (ipykernel)",
   "language": "python",
   "name": "python3"
  },
  "language_info": {
   "codemirror_mode": {
    "name": "ipython",
    "version": 3
   },
   "file_extension": ".py",
   "mimetype": "text/x-python",
   "name": "python",
   "nbconvert_exporter": "python",
   "pygments_lexer": "ipython3",
   "version": "3.11.5"
  }
 },
 "nbformat": 4,
 "nbformat_minor": 5
}
