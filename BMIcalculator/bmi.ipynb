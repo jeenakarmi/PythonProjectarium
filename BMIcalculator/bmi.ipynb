{
 "cells": [
  {
   "cell_type": "code",
   "execution_count": null,
   "id": "5d8d9df8",
   "metadata": {},
   "outputs": [
    {
     "name": "stdout",
     "output_type": "stream",
     "text": [
      "your Body Mass Index is:  17.006802721088437\n",
      "you are underweight\n"
     ]
    }
   ],
   "source": [
    "Height=float(input(\"Enter your height in centimeters: \"))\n",
    "Weight=float(input(\"Enter your Weight in Kg: \"))\n",
    "Height = Height/100 # to meters\n",
    "BMI=Weight/(Height*Height)\n",
    "print(\"your Body Mass Index is: \",BMI)\n",
    "if(BMI>0):\n",
    "\tif(BMI<=16):\n",
    "\t\tprint(\"you are severely underweight\")\n",
    "\telif(BMI<=18.5):\n",
    "\t\tprint(\"you are underweight\")\n",
    "\telif(BMI<=25):\n",
    "\t\tprint(\"you are Healthy\")\n",
    "\telif(BMI<=30):\n",
    "\t\tprint(\"you are overweight\")\n",
    "\telse: print(\"you are severely overweight\")\n",
    "else:(\"enter valid details\")"
   ]
  },
  {
   "cell_type": "code",
   "execution_count": 3,
   "id": "37430d92",
   "metadata": {},
   "outputs": [
    {
     "ename": "KeyboardInterrupt",
     "evalue": "",
     "output_type": "error",
     "traceback": [
      "\u001b[1;31m---------------------------------------------------------------------------\u001b[0m",
      "\u001b[1;31mKeyboardInterrupt\u001b[0m                         Traceback (most recent call last)",
      "Cell \u001b[1;32mIn[3], line 69\u001b[0m\n\u001b[0;32m     66\u001b[0m ttk\u001b[38;5;241m.\u001b[39mLabel(root, textvariable\u001b[38;5;241m=\u001b[39mstatus, font\u001b[38;5;241m=\u001b[39m(\u001b[38;5;124m\"\u001b[39m\u001b[38;5;124mSegoe UI\u001b[39m\u001b[38;5;124m\"\u001b[39m, \u001b[38;5;241m12\u001b[39m, \u001b[38;5;124m\"\u001b[39m\u001b[38;5;124mitalic\u001b[39m\u001b[38;5;124m\"\u001b[39m))\u001b[38;5;241m.\u001b[39mpack(pady\u001b[38;5;241m=\u001b[39m\u001b[38;5;241m5\u001b[39m)\n\u001b[0;32m     68\u001b[0m \u001b[38;5;66;03m# Run App\u001b[39;00m\n\u001b[1;32m---> 69\u001b[0m \u001b[43mroot\u001b[49m\u001b[38;5;241;43m.\u001b[39;49m\u001b[43mmainloop\u001b[49m\u001b[43m(\u001b[49m\u001b[43m)\u001b[49m\n",
      "File \u001b[1;32m~\\AppData\\Local\\Programs\\Python\\Python311\\Lib\\tkinter\\__init__.py:1485\u001b[0m, in \u001b[0;36mMisc.mainloop\u001b[1;34m(self, n)\u001b[0m\n\u001b[0;32m   1483\u001b[0m \u001b[38;5;28;01mdef\u001b[39;00m \u001b[38;5;21mmainloop\u001b[39m(\u001b[38;5;28mself\u001b[39m, n\u001b[38;5;241m=\u001b[39m\u001b[38;5;241m0\u001b[39m):\n\u001b[0;32m   1484\u001b[0m \u001b[38;5;250m    \u001b[39m\u001b[38;5;124;03m\"\"\"Call the mainloop of Tk.\"\"\"\u001b[39;00m\n\u001b[1;32m-> 1485\u001b[0m     \u001b[38;5;28;43mself\u001b[39;49m\u001b[38;5;241;43m.\u001b[39;49m\u001b[43mtk\u001b[49m\u001b[38;5;241;43m.\u001b[39;49m\u001b[43mmainloop\u001b[49m\u001b[43m(\u001b[49m\u001b[43mn\u001b[49m\u001b[43m)\u001b[49m\n",
      "\u001b[1;31mKeyboardInterrupt\u001b[0m: "
     ]
    }
   ],
   "source": [
    "import tkinter as tk\n",
    "from tkinter import ttk, messagebox\n",
    "\n",
    "def calculate_bmi():\n",
    "    try:\n",
    "        height = float(height_entry.get()) / 100  # convert cm to meters\n",
    "        weight = float(weight_entry.get())\n",
    "        if height <= 0 or weight <= 0:\n",
    "            raise ValueError\n",
    "        \n",
    "        bmi = weight / (height * height)\n",
    "        bmi_result.set(f\"{bmi:.2f}\")\n",
    "\n",
    "        if bmi <= 16:\n",
    "            status.set(\"Severely Underweight 😟\")\n",
    "        elif bmi <= 18.5:\n",
    "            status.set(\"Underweight 😕\")\n",
    "        elif bmi <= 25:\n",
    "            status.set(\"Healthy 😊\")\n",
    "        elif bmi <= 30:\n",
    "            status.set(\"Overweight 😐\")\n",
    "        else:\n",
    "            status.set(\"Severely Overweight 😟\")\n",
    "    except ValueError:\n",
    "        messagebox.showerror(\"Invalid Input\", \"Please enter valid numbers for height and weight.\")\n",
    "\n",
    "# GUI Window\n",
    "root = tk.Tk()\n",
    "root.title(\"BMI Calculator\")\n",
    "root.geometry(\"400x300\")\n",
    "root.configure(bg=\"#f0f4f7\")\n",
    "\n",
    "# Style\n",
    "style = ttk.Style()\n",
    "style.theme_use(\"clam\")\n",
    "style.configure(\"TLabel\", font=(\"Segoe UI\", 12), background=\"#f0f4f7\")\n",
    "style.configure(\"TButton\", font=(\"Segoe UI\", 12), padding=6)\n",
    "style.configure(\"TEntry\", font=(\"Segoe UI\", 12))\n",
    "\n",
    "# Variables\n",
    "bmi_result = tk.StringVar()\n",
    "status = tk.StringVar()\n",
    "\n",
    "# Title\n",
    "ttk.Label(root, text=\"BMI Calculator\", font=(\"Segoe UI\", 16, \"bold\")).pack(pady=10)\n",
    "\n",
    "# Input Frame\n",
    "input_frame = ttk.Frame(root)\n",
    "input_frame.pack(pady=10)\n",
    "\n",
    "ttk.Label(input_frame, text=\"Height (cm):\").grid(row=0, column=0, pady=5, sticky='w')\n",
    "height_entry = ttk.Entry(input_frame, width=20)\n",
    "height_entry.grid(row=0, column=1, pady=5)\n",
    "\n",
    "ttk.Label(input_frame, text=\"Weight (kg):\").grid(row=1, column=0, pady=5, sticky='w')\n",
    "weight_entry = ttk.Entry(input_frame, width=20)\n",
    "weight_entry.grid(row=1, column=1, pady=5)\n",
    "\n",
    "# Calculate Button\n",
    "ttk.Button(root, text=\"Calculate BMI\", command=calculate_bmi).pack(pady=10)\n",
    "\n",
    "# Output\n",
    "ttk.Label(root, text=\"Your BMI:\").pack()\n",
    "ttk.Label(root, textvariable=bmi_result, font=(\"Segoe UI\", 14, \"bold\")).pack()\n",
    "\n",
    "ttk.Label(root, textvariable=status, font=(\"Segoe UI\", 12, \"italic\")).pack(pady=5)\n",
    "\n",
    "# Run App\n",
    "root.mainloop()\n"
   ]
  }
 ],
 "metadata": {
  "kernelspec": {
   "display_name": "Python (pyvenv)",
   "language": "python",
   "name": "pyvenv"
  },
  "language_info": {
   "codemirror_mode": {
    "name": "ipython",
    "version": 3
   },
   "file_extension": ".py",
   "mimetype": "text/x-python",
   "name": "python",
   "nbconvert_exporter": "python",
   "pygments_lexer": "ipython3",
   "version": "3.11.5"
  }
 },
 "nbformat": 4,
 "nbformat_minor": 5
}
