{
 "cells": [
  {
   "cell_type": "code",
   "execution_count": 11,
   "id": "6322957a",
   "metadata": {},
   "outputs": [
    {
     "data": {
      "text/html": [
       "<span style=\"color:blue; background-color:yellow; padding: 2px;\">Hi, my name is Jeena Nakarmi</span>"
      ],
      "text/plain": [
       "<IPython.core.display.HTML object>"
      ]
     },
     "metadata": {},
     "output_type": "display_data"
    },
    {
     "data": {
      "text/html": [
       "<span style=\"color:white; background-color:red; padding: 2px;\">Hi, my name is Jeena Nakarmi</span>"
      ],
      "text/plain": [
       "<IPython.core.display.HTML object>"
      ]
     },
     "metadata": {},
     "output_type": "display_data"
    },
    {
     "data": {
      "text/html": [
       "<span style=\"color:black; background-color:lightblue; padding: 2px;\">Hi, my name is Jeena Nakarmi</span>"
      ],
      "text/plain": [
       "<IPython.core.display.HTML object>"
      ]
     },
     "metadata": {},
     "output_type": "display_data"
    }
   ],
   "source": [
    "# Doesn't work in ipynb file\n",
    "# import colorama\n",
    "# from colorama import Fore, Back, Style\n",
    "# colorama.init(autoreset=True)\n",
    "\n",
    "# print(Fore.BLUE + Back.YELLOW + \"Hi, my name is Jeena Nakarmi \" + Fore.YELLOW + Back.BLUE + \"I am a Machine Learning Enthusiast\")\n",
    "# print(Back.CYAN + \"Hi, my name is Jeena Nakarmi\")\n",
    "# print(Fore.RED + Back.GREEN + \"Hi, my name is Jeena Nakarmi\")\n",
    "\n",
    "# Simple\n",
    "from IPython.display import HTML, display\n",
    "\n",
    "def print_colored(text, color=\"blue\", background=\"yellow\"):\n",
    "    display(HTML(f'<span style=\"color:{color}; background-color:{background}; padding: 2px;\">{text}</span>'))\n",
    "\n",
    "print_colored(\"Hi, my name is Jeena Nakarmi\", color=\"blue\", background=\"yellow\")\n",
    "print_colored(\"Hi, my name is Jeena Nakarmi\", color=\"white\", background=\"red\")\n",
    "print_colored(\"Hi, my name is Jeena Nakarmi\", color=\"black\", background=\"lightblue\")\n"
   ]
  }
 ],
 "metadata": {
  "language_info": {
   "name": "python"
  }
 },
 "nbformat": 4,
 "nbformat_minor": 5
}
