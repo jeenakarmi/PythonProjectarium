{
 "cells": [
  {
   "cell_type": "code",
   "execution_count": 11,
   "id": "6322957a",
   "metadata": {},
   "outputs": [
    {
     "data": {
      "text/html": [
       "<span style=\"color:blue; background-color:yellow; padding: 2px;\">Hi, my name is Jeena Nakarmi</span>"
      ],
      "text/plain": [
       "<IPython.core.display.HTML object>"
      ]
     },
     "metadata": {},
     "output_type": "display_data"
    },
    {
     "data": {
      "text/html": [
       "<span style=\"color:white; background-color:red; padding: 2px;\">Hi, my name is Jeena Nakarmi</span>"
      ],
      "text/plain": [
       "<IPython.core.display.HTML object>"
      ]
     },
     "metadata": {},
     "output_type": "display_data"
    },
    {
     "data": {
      "text/html": [
       "<span style=\"color:black; background-color:lightblue; padding: 2px;\">Hi, my name is Jeena Nakarmi</span>"
      ],
      "text/plain": [
       "<IPython.core.display.HTML object>"
      ]
     },
     "metadata": {},
     "output_type": "display_data"
    }
   ],
   "source": [
    "# Doesn't work in ipynb file\n",
    "# import colorama\n",
    "# from colorama import Fore, Back, Style\n",
    "# colorama.init(autoreset=True)\n",
    "\n",
    "# print(Fore.BLUE + Back.YELLOW + \"Hi, my name is Jeena Nakarmi \" + Fore.YELLOW + Back.BLUE + \"I am a Machine Learning Enthusiast\")\n",
    "# print(Back.CYAN + \"Hi, my name is Jeena Nakarmi\")\n",
    "# print(Fore.RED + Back.GREEN + \"Hi, my name is Jeena Nakarmi\")\n",
    "\n",
    "# Simple\n",
    "from IPython.display import HTML, display\n",
    "\n",
    "def print_colored(text, color=\"blue\", background=\"yellow\"):\n",
    "    display(HTML(f'<span style=\"color:{color}; background-color:{background}; padding: 2px;\">{text}</span>'))\n",
    "\n",
    "print_colored(\"Hi, my name is Jeena Nakarmi\", color=\"blue\", background=\"yellow\")\n",
    "print_colored(\"Hi, my name is Jeena Nakarmi\", color=\"white\", background=\"red\")\n",
    "print_colored(\"Hi, my name is Jeena Nakarmi\", color=\"black\", background=\"lightblue\")\n"
   ]
  },
  {
   "cell_type": "code",
   "execution_count": 12,
   "id": "11a9d69e",
   "metadata": {},
   "outputs": [
    {
     "data": {
      "text/html": [
       "<span style=\"color:white; background-color:purple; padding: 5px; font-weight: bold;\">Hi, my name is Jeena Nakarmi. I am passionate about Machine Learning.</span>"
      ],
      "text/plain": [
       "<IPython.core.display.HTML object>"
      ]
     },
     "metadata": {},
     "output_type": "display_data"
    },
    {
     "data": {
      "text/html": [
       "<span style=\"color:blue; background-color:lightyellow; padding: 5px; font-weight: bold;\">Hi, my name is Jeena Nakarmi</span>"
      ],
      "text/plain": [
       "<IPython.core.display.HTML object>"
      ]
     },
     "metadata": {},
     "output_type": "display_data"
    },
    {
     "data": {
      "text/html": [
       "<span style=\"color:green; background-color:lightcoral; padding: 5px; font-weight: bold;\">Hi, my name is Jeena Nakarmi</span>"
      ],
      "text/plain": [
       "<IPython.core.display.HTML object>"
      ]
     },
     "metadata": {},
     "output_type": "display_data"
    },
    {
     "data": {
      "text/html": [
       "<span style=\"color:orange; background-color:lightblue; padding: 5px; font-weight: bold;\">Hi, my name is Jeena Nakarmi</span>"
      ],
      "text/plain": [
       "<IPython.core.display.HTML object>"
      ]
     },
     "metadata": {},
     "output_type": "display_data"
    }
   ],
   "source": [
    "# exploring\n",
    "from IPython.display import display, HTML\n",
    "\n",
    "def print_colored(text, color=\"magenta\", background=\"white\"):\n",
    "    display(HTML(f'<span style=\"color:{color}; background-color:{background}; padding: 5px; font-weight: bold;\">{text}</span>'))\n",
    "\n",
    "print_colored(\"Hi, my name is Jeena Nakarmi. I am passionate about Machine Learning.\", color=\"white\", background=\"purple\")\n",
    "print_colored(\"Hi, my name is Jeena Nakarmi\", color=\"blue\", background=\"lightyellow\")\n",
    "print_colored(\"Hi, my name is Jeena Nakarmi\", color=\"green\", background=\"lightcoral\")\n",
    "print_colored(\"Hi, my name is Jeena Nakarmi\", color=\"orange\", background=\"lightblue\")"
   ]
  },
  {
   "cell_type": "code",
   "execution_count": 13,
   "id": "8099e533",
   "metadata": {},
   "outputs": [
    {
     "data": {
      "text/html": [
       "<div style=\"\n",
       "        display: inline-block;\n",
       "        color: white;\n",
       "        background-color: mediumvioletred;\n",
       "        padding: 10px 15px;\n",
       "        margin: 5px 0;\n",
       "        font-size: 16px;\n",
       "        font-weight: bold;\n",
       "        border-radius: 10px;\n",
       "        font-family: Arial;\n",
       "    \">Hi, my name is Jeena Nakarmi. I am passionate about Machine Learning.</div>"
      ],
      "text/plain": [
       "<IPython.core.display.HTML object>"
      ]
     },
     "metadata": {},
     "output_type": "display_data"
    },
    {
     "data": {
      "text/html": [
       "<div style=\"\n",
       "        display: inline-block;\n",
       "        color: black;\n",
       "        background-color: lightyellow;\n",
       "        padding: 10px 15px;\n",
       "        margin: 5px 0;\n",
       "        font-size: 16px;\n",
       "        font-weight: bold;\n",
       "        border-radius: 10px;\n",
       "        font-family: Arial;\n",
       "    \">Hi, my name is Jeena Nakarmi</div>"
      ],
      "text/plain": [
       "<IPython.core.display.HTML object>"
      ]
     },
     "metadata": {},
     "output_type": "display_data"
    },
    {
     "data": {
      "text/html": [
       "<div style=\"\n",
       "        display: inline-block;\n",
       "        color: green;\n",
       "        background-color: mistyrose;\n",
       "        padding: 10px 15px;\n",
       "        margin: 5px 0;\n",
       "        font-size: 16px;\n",
       "        font-weight: bold;\n",
       "        border-radius: 10px;\n",
       "        font-family: Arial;\n",
       "    \">Hi, my name is Jeena Nakarmi</div>"
      ],
      "text/plain": [
       "<IPython.core.display.HTML object>"
      ]
     },
     "metadata": {},
     "output_type": "display_data"
    },
    {
     "data": {
      "text/html": [
       "<div style=\"\n",
       "        display: inline-block;\n",
       "        color: navy;\n",
       "        background-color: lightcyan;\n",
       "        padding: 10px 15px;\n",
       "        margin: 5px 0;\n",
       "        font-size: 16px;\n",
       "        font-weight: bold;\n",
       "        border-radius: 10px;\n",
       "        font-family: Arial;\n",
       "    \">Hi, my name is Jeena Nakarmi</div>"
      ],
      "text/plain": [
       "<IPython.core.display.HTML object>"
      ]
     },
     "metadata": {},
     "output_type": "display_data"
    }
   ],
   "source": [
    "# Used css style\n",
    "from IPython.display import display, HTML\n",
    "\n",
    "# Function to print with custom text and color styles\n",
    "def print_colored(text, color=\"white\", background=\"purple\"):\n",
    "    style = f\"\"\"\n",
    "        display: inline-block;\n",
    "        color: {color};\n",
    "        background-color: {background};\n",
    "        padding: 10px 15px;\n",
    "        margin: 5px 0;\n",
    "        font-size: 16px;\n",
    "        font-weight: bold;\n",
    "        border-radius: 10px;\n",
    "        font-family: Arial;\n",
    "    \"\"\"\n",
    "    display(HTML(f'<div style=\"{style}\">{text}</div>'))\n",
    "\n",
    "# Your colorful lines\n",
    "print_colored(\"Hi, my name is Jeena Nakarmi. I am passionate about Machine Learning.\", color=\"white\", background=\"mediumvioletred\")\n",
    "print_colored(\"Hi, my name is Jeena Nakarmi\", color=\"black\", background=\"lightyellow\")\n",
    "print_colored(\"Hi, my name is Jeena Nakarmi\", color=\"green\", background=\"mistyrose\")\n",
    "print_colored(\"Hi, my name is Jeena Nakarmi\", color=\"navy\", background=\"lightcyan\")"
   ]
  }
 ],
 "metadata": {
  "language_info": {
   "name": "python"
  }
 },
 "nbformat": 4,
 "nbformat_minor": 5
}
